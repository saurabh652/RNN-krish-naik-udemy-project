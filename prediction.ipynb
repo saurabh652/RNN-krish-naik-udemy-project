{
 "cells": [
  {
   "cell_type": "code",
   "execution_count": 1,
   "id": "b3b85dc7",
   "metadata": {},
   "outputs": [],
   "source": [
    "# Step 1: Import Libraries and Load the Model\n",
    "import numpy as np\n",
    "import tensorflow as tf\n",
    "from tensorflow.keras.datasets import imdb\n",
    "from tensorflow.keras.preprocessing import sequence\n",
    "from tensorflow.keras.models import load_model"
   ]
  },
  {
   "cell_type": "code",
   "execution_count": 2,
   "id": "699c81fa",
   "metadata": {},
   "outputs": [],
   "source": [
    "\n",
    "# Load the IMDB dataset word index\n",
    "word_index = imdb.get_word_index()\n",
    "reverse_word_index = {value: key for key, value in word_index.items()}"
   ]
  },
  {
   "cell_type": "code",
   "execution_count": 3,
   "id": "3bf0bc3b",
   "metadata": {},
   "outputs": [
    {
     "name": "stderr",
     "output_type": "stream",
     "text": [
      "WARNING:absl:Compiled the loaded model, but the compiled metrics have yet to be built. `model.compile_metrics` will be empty until you train or evaluate the model.\n"
     ]
    },
    {
     "data": {
      "text/html": [
       "<pre style=\"white-space:pre;overflow-x:auto;line-height:normal;font-family:Menlo,'DejaVu Sans Mono',consolas,'Courier New',monospace\"><span style=\"font-weight: bold\">Model: \"sequential\"</span>\n",
       "</pre>\n"
      ],
      "text/plain": [
       "\u001b[1mModel: \"sequential\"\u001b[0m\n"
      ]
     },
     "metadata": {},
     "output_type": "display_data"
    },
    {
     "data": {
      "text/html": [
       "<pre style=\"white-space:pre;overflow-x:auto;line-height:normal;font-family:Menlo,'DejaVu Sans Mono',consolas,'Courier New',monospace\">┏━━━━━━━━━━━━━━━━━━━━━━━━━━━━━━━━━┳━━━━━━━━━━━━━━━━━━━━━━━━┳━━━━━━━━━━━━━━━┓\n",
       "┃<span style=\"font-weight: bold\"> Layer (type)                    </span>┃<span style=\"font-weight: bold\"> Output Shape           </span>┃<span style=\"font-weight: bold\">       Param # </span>┃\n",
       "┡━━━━━━━━━━━━━━━━━━━━━━━━━━━━━━━━━╇━━━━━━━━━━━━━━━━━━━━━━━━╇━━━━━━━━━━━━━━━┩\n",
       "│ embedding (<span style=\"color: #0087ff; text-decoration-color: #0087ff\">Embedding</span>)           │ (<span style=\"color: #00af00; text-decoration-color: #00af00\">32</span>, <span style=\"color: #00af00; text-decoration-color: #00af00\">500</span>, <span style=\"color: #00af00; text-decoration-color: #00af00\">128</span>)         │     <span style=\"color: #00af00; text-decoration-color: #00af00\">1,280,000</span> │\n",
       "├─────────────────────────────────┼────────────────────────┼───────────────┤\n",
       "│ simple_rnn (<span style=\"color: #0087ff; text-decoration-color: #0087ff\">SimpleRNN</span>)          │ (<span style=\"color: #00af00; text-decoration-color: #00af00\">32</span>, <span style=\"color: #00af00; text-decoration-color: #00af00\">128</span>)              │        <span style=\"color: #00af00; text-decoration-color: #00af00\">32,896</span> │\n",
       "├─────────────────────────────────┼────────────────────────┼───────────────┤\n",
       "│ dense (<span style=\"color: #0087ff; text-decoration-color: #0087ff\">Dense</span>)                   │ (<span style=\"color: #00af00; text-decoration-color: #00af00\">32</span>, <span style=\"color: #00af00; text-decoration-color: #00af00\">1</span>)                │           <span style=\"color: #00af00; text-decoration-color: #00af00\">129</span> │\n",
       "└─────────────────────────────────┴────────────────────────┴───────────────┘\n",
       "</pre>\n"
      ],
      "text/plain": [
       "┏━━━━━━━━━━━━━━━━━━━━━━━━━━━━━━━━━┳━━━━━━━━━━━━━━━━━━━━━━━━┳━━━━━━━━━━━━━━━┓\n",
       "┃\u001b[1m \u001b[0m\u001b[1mLayer (type)                   \u001b[0m\u001b[1m \u001b[0m┃\u001b[1m \u001b[0m\u001b[1mOutput Shape          \u001b[0m\u001b[1m \u001b[0m┃\u001b[1m \u001b[0m\u001b[1m      Param #\u001b[0m\u001b[1m \u001b[0m┃\n",
       "┡━━━━━━━━━━━━━━━━━━━━━━━━━━━━━━━━━╇━━━━━━━━━━━━━━━━━━━━━━━━╇━━━━━━━━━━━━━━━┩\n",
       "│ embedding (\u001b[38;5;33mEmbedding\u001b[0m)           │ (\u001b[38;5;34m32\u001b[0m, \u001b[38;5;34m500\u001b[0m, \u001b[38;5;34m128\u001b[0m)         │     \u001b[38;5;34m1,280,000\u001b[0m │\n",
       "├─────────────────────────────────┼────────────────────────┼───────────────┤\n",
       "│ simple_rnn (\u001b[38;5;33mSimpleRNN\u001b[0m)          │ (\u001b[38;5;34m32\u001b[0m, \u001b[38;5;34m128\u001b[0m)              │        \u001b[38;5;34m32,896\u001b[0m │\n",
       "├─────────────────────────────────┼────────────────────────┼───────────────┤\n",
       "│ dense (\u001b[38;5;33mDense\u001b[0m)                   │ (\u001b[38;5;34m32\u001b[0m, \u001b[38;5;34m1\u001b[0m)                │           \u001b[38;5;34m129\u001b[0m │\n",
       "└─────────────────────────────────┴────────────────────────┴───────────────┘\n"
      ]
     },
     "metadata": {},
     "output_type": "display_data"
    },
    {
     "data": {
      "text/html": [
       "<pre style=\"white-space:pre;overflow-x:auto;line-height:normal;font-family:Menlo,'DejaVu Sans Mono',consolas,'Courier New',monospace\"><span style=\"font-weight: bold\"> Total params: </span><span style=\"color: #00af00; text-decoration-color: #00af00\">1,313,027</span> (5.01 MB)\n",
       "</pre>\n"
      ],
      "text/plain": [
       "\u001b[1m Total params: \u001b[0m\u001b[38;5;34m1,313,027\u001b[0m (5.01 MB)\n"
      ]
     },
     "metadata": {},
     "output_type": "display_data"
    },
    {
     "data": {
      "text/html": [
       "<pre style=\"white-space:pre;overflow-x:auto;line-height:normal;font-family:Menlo,'DejaVu Sans Mono',consolas,'Courier New',monospace\"><span style=\"font-weight: bold\"> Trainable params: </span><span style=\"color: #00af00; text-decoration-color: #00af00\">1,313,025</span> (5.01 MB)\n",
       "</pre>\n"
      ],
      "text/plain": [
       "\u001b[1m Trainable params: \u001b[0m\u001b[38;5;34m1,313,025\u001b[0m (5.01 MB)\n"
      ]
     },
     "metadata": {},
     "output_type": "display_data"
    },
    {
     "data": {
      "text/html": [
       "<pre style=\"white-space:pre;overflow-x:auto;line-height:normal;font-family:Menlo,'DejaVu Sans Mono',consolas,'Courier New',monospace\"><span style=\"font-weight: bold\"> Non-trainable params: </span><span style=\"color: #00af00; text-decoration-color: #00af00\">0</span> (0.00 B)\n",
       "</pre>\n"
      ],
      "text/plain": [
       "\u001b[1m Non-trainable params: \u001b[0m\u001b[38;5;34m0\u001b[0m (0.00 B)\n"
      ]
     },
     "metadata": {},
     "output_type": "display_data"
    },
    {
     "data": {
      "text/html": [
       "<pre style=\"white-space:pre;overflow-x:auto;line-height:normal;font-family:Menlo,'DejaVu Sans Mono',consolas,'Courier New',monospace\"><span style=\"font-weight: bold\"> Optimizer params: </span><span style=\"color: #00af00; text-decoration-color: #00af00\">2</span> (12.00 B)\n",
       "</pre>\n"
      ],
      "text/plain": [
       "\u001b[1m Optimizer params: \u001b[0m\u001b[38;5;34m2\u001b[0m (12.00 B)\n"
      ]
     },
     "metadata": {},
     "output_type": "display_data"
    }
   ],
   "source": [
    "# Load the pre-trained model with ReLU activation\n",
    "model = load_model('simple_rnn_imdb.h5')\n",
    "model.summary()"
   ]
  },
  {
   "cell_type": "code",
   "execution_count": 4,
   "id": "4ee0ce39",
   "metadata": {},
   "outputs": [
    {
     "data": {
      "text/plain": [
       "[array([[ 0.01067136, -0.07587583,  0.05222294, ...,  0.0182442 ,\n",
       "          0.0072026 ,  0.03770624],\n",
       "        [ 0.0185667 , -0.01544016, -0.01646714, ...,  0.03188304,\n",
       "          0.02982016,  0.02820444],\n",
       "        [ 0.04590659, -0.08449956,  0.02602708, ...,  0.03527424,\n",
       "          0.04760952,  0.09356493],\n",
       "        ...,\n",
       "        [ 0.08849879,  0.03261061,  0.0348485 , ..., -0.13280456,\n",
       "         -0.00615684, -0.00098954],\n",
       "        [-0.01514537,  0.00368003, -0.08515865, ..., -0.06976561,\n",
       "         -0.01584149, -0.05743225],\n",
       "        [ 0.00796142, -0.06330827, -0.01862455, ...,  0.06537398,\n",
       "         -0.0277977 ,  0.00495183]], dtype=float32),\n",
       " array([[ 0.09888721,  0.12916061,  0.0397779 , ...,  0.02938909,\n",
       "          0.03069673,  0.02354174],\n",
       "        [-0.01149419,  0.15262404, -0.06361455, ...,  0.14198424,\n",
       "          0.04258802, -0.15062477],\n",
       "        [-0.04571307, -0.06042507, -0.08371112, ...,  0.15274948,\n",
       "         -0.04913116,  0.00039332],\n",
       "        ...,\n",
       "        [-0.06562459,  0.09805106,  0.00060722, ...,  0.10937481,\n",
       "         -0.13540901,  0.0461604 ],\n",
       "        [ 0.1327735 , -0.06388271, -0.03019715, ..., -0.097134  ,\n",
       "         -0.11734407, -0.02982894],\n",
       "        [ 0.01895399,  0.12175775, -0.01757334, ..., -0.06849732,\n",
       "         -0.09768027, -0.08977038]], dtype=float32),\n",
       " array([[-0.10358848,  0.07149689, -0.02691475, ..., -0.12120944,\n",
       "         -0.06459829,  0.10181721],\n",
       "        [-0.06273527, -0.00444366,  0.00370458, ..., -0.09476082,\n",
       "         -0.06116079, -0.02079212],\n",
       "        [ 0.08694232, -0.0341999 ,  0.05822482, ..., -0.0560113 ,\n",
       "          0.16511543,  0.08701131],\n",
       "        ...,\n",
       "        [ 0.08207803,  0.02165077, -0.1445089 , ..., -0.04212906,\n",
       "         -0.05724071, -0.02237177],\n",
       "        [ 0.12700708,  0.00662225, -0.03464398, ..., -0.14657621,\n",
       "         -0.1386768 , -0.00604535],\n",
       "        [-0.02175495,  0.01739847, -0.10339735, ...,  0.02786687,\n",
       "          0.01545774, -0.1843701 ]], dtype=float32),\n",
       " array([-0.00565275, -0.0082693 ,  0.00613956, -0.02109584, -0.00477889,\n",
       "        -0.01944853, -0.00346946, -0.02053486,  0.02130093,  0.01223174,\n",
       "         0.01216222, -0.00136715, -0.01623586, -0.00817574, -0.01047688,\n",
       "        -0.00829796, -0.01329283,  0.01393854,  0.0013971 ,  0.01765203,\n",
       "        -0.00415104, -0.0074019 , -0.00544829, -0.00518858, -0.01455047,\n",
       "        -0.00678706, -0.01493961, -0.02063475, -0.01358803, -0.05044648,\n",
       "        -0.02359052, -0.00715976, -0.00781338,  0.00218452, -0.00443568,\n",
       "         0.01623334, -0.01523266, -0.00236159,  0.00076268,  0.01754694,\n",
       "        -0.00359215,  0.01478527,  0.0190843 , -0.00512031,  0.00365911,\n",
       "        -0.00700283, -0.00781189, -0.00475926, -0.00848909, -0.00395884,\n",
       "        -0.01069126, -0.01358697, -0.01189173, -0.007556  , -0.02908601,\n",
       "        -0.00748414, -0.00513375, -0.01183147,  0.00269086, -0.00648141,\n",
       "        -0.00157354, -0.00899206,  0.01467686,  0.00135028, -0.01397982,\n",
       "        -0.00574906, -0.0204722 , -0.01762276, -0.01064889, -0.01112025,\n",
       "         0.01750726,  0.00245631,  0.00395152, -0.00897546,  0.00705339,\n",
       "        -0.00125521, -0.0152885 , -0.00628637, -0.00544463,  0.01016105,\n",
       "        -0.00695043,  0.00200365,  0.01173777, -0.00126106,  0.00089171,\n",
       "         0.00116622, -0.00270313, -0.00695786, -0.01359906, -0.00587485,\n",
       "         0.01316277,  0.00153152, -0.02249221, -0.00509034,  0.00960408,\n",
       "         0.01060693, -0.00898751,  0.00196666, -0.01267416, -0.01408514,\n",
       "        -0.01846506, -0.00931756, -0.00305057, -0.0198424 ,  0.00602996,\n",
       "        -0.00308064,  0.00980474, -0.02789662,  0.01493402, -0.00073279,\n",
       "         0.00127104, -0.01419345,  0.0158613 , -0.00021169, -0.01056813,\n",
       "        -0.01226359, -0.01024416, -0.00879705,  0.00820315,  0.01369436,\n",
       "         0.00137157,  0.00649073,  0.01163294,  0.00237603,  0.0191793 ,\n",
       "        -0.00707353, -0.00502655,  0.00460279], dtype=float32),\n",
       " array([[ 0.16097006],\n",
       "        [-0.20307791],\n",
       "        [-0.75746673],\n",
       "        [ 0.23901741],\n",
       "        [-0.15675052],\n",
       "        [-0.48447815],\n",
       "        [-0.10836384],\n",
       "        [ 0.02909266],\n",
       "        [ 0.58728737],\n",
       "        [-0.05189117],\n",
       "        [-0.26987872],\n",
       "        [ 0.02581045],\n",
       "        [-0.18222308],\n",
       "        [-0.0742778 ],\n",
       "        [ 0.5002672 ],\n",
       "        [-0.39547166],\n",
       "        [-0.63303125],\n",
       "        [-0.3852518 ],\n",
       "        [-0.10826226],\n",
       "        [-0.20996436],\n",
       "        [-0.1932644 ],\n",
       "        [-0.15080103],\n",
       "        [ 0.40268803],\n",
       "        [ 0.06771654],\n",
       "        [ 0.04005792],\n",
       "        [-0.17711395],\n",
       "        [-0.14686722],\n",
       "        [-0.30972627],\n",
       "        [ 0.2506163 ],\n",
       "        [ 0.15021546],\n",
       "        [-0.3288116 ],\n",
       "        [-0.16284205],\n",
       "        [-0.18887377],\n",
       "        [-0.16175571],\n",
       "        [-0.46905074],\n",
       "        [ 0.5234698 ],\n",
       "        [ 0.49144754],\n",
       "        [ 0.4198716 ],\n",
       "        [-0.13872351],\n",
       "        [ 0.6985147 ],\n",
       "        [ 0.01382295],\n",
       "        [ 0.11401471],\n",
       "        [ 0.6422835 ],\n",
       "        [ 0.02843858],\n",
       "        [-0.02145488],\n",
       "        [-0.30035424],\n",
       "        [ 0.17700978],\n",
       "        [-0.12915255],\n",
       "        [-0.1704041 ],\n",
       "        [-0.09199379],\n",
       "        [-0.03297478],\n",
       "        [ 0.1369786 ],\n",
       "        [ 0.437269  ],\n",
       "        [ 0.02943103],\n",
       "        [-0.18531798],\n",
       "        [ 0.22203645],\n",
       "        [ 0.21815616],\n",
       "        [-0.1468338 ],\n",
       "        [-0.25832164],\n",
       "        [-0.08162487],\n",
       "        [ 0.26167315],\n",
       "        [ 0.21468481],\n",
       "        [ 0.5918601 ],\n",
       "        [-0.00748849],\n",
       "        [-0.827803  ],\n",
       "        [-0.15929365],\n",
       "        [-0.21293639],\n",
       "        [ 0.08377866],\n",
       "        [ 0.06392242],\n",
       "        [-0.01116056],\n",
       "        [ 0.6505768 ],\n",
       "        [ 0.7188944 ],\n",
       "        [-0.19209535],\n",
       "        [-0.1501703 ],\n",
       "        [-0.0616881 ],\n",
       "        [ 0.31827822],\n",
       "        [-0.06362393],\n",
       "        [ 0.15511742],\n",
       "        [ 0.84872127],\n",
       "        [ 0.38561624],\n",
       "        [ 0.28806886],\n",
       "        [ 0.8566951 ],\n",
       "        [ 0.85812044],\n",
       "        [-0.06088122],\n",
       "        [-0.21447377],\n",
       "        [ 0.21362518],\n",
       "        [ 0.10821265],\n",
       "        [-0.10068349],\n",
       "        [-0.1521511 ],\n",
       "        [ 0.13982534],\n",
       "        [-0.17644776],\n",
       "        [-0.02593586],\n",
       "        [-0.01860909],\n",
       "        [-0.12563586],\n",
       "        [ 0.21426709],\n",
       "        [ 0.22157983],\n",
       "        [ 0.0304191 ],\n",
       "        [-0.13102989],\n",
       "        [ 0.3627127 ],\n",
       "        [-0.06417686],\n",
       "        [ 0.07387038],\n",
       "        [-0.08488724],\n",
       "        [ 0.13863595],\n",
       "        [-0.08071851],\n",
       "        [-0.13531844],\n",
       "        [ 0.48472714],\n",
       "        [ 0.18627384],\n",
       "        [-0.069973  ],\n",
       "        [ 0.16214482],\n",
       "        [-0.24444418],\n",
       "        [-0.04045108],\n",
       "        [ 0.30447564],\n",
       "        [ 0.6034648 ],\n",
       "        [ 0.21087223],\n",
       "        [-0.20748222],\n",
       "        [-0.38213253],\n",
       "        [-0.3273808 ],\n",
       "        [-0.04469292],\n",
       "        [-0.37295574],\n",
       "        [-0.17939056],\n",
       "        [ 0.19627856],\n",
       "        [ 0.08143713],\n",
       "        [ 0.10639255],\n",
       "        [-0.07811204],\n",
       "        [ 0.06512534],\n",
       "        [ 0.11875253],\n",
       "        [ 0.0227471 ],\n",
       "        [ 0.29932132]], dtype=float32),\n",
       " array([-0.08527438], dtype=float32)]"
      ]
     },
     "execution_count": 4,
     "metadata": {},
     "output_type": "execute_result"
    }
   ],
   "source": [
    "model.get_weights()"
   ]
  },
  {
   "cell_type": "code",
   "execution_count": 5,
   "id": "7d405d43",
   "metadata": {},
   "outputs": [],
   "source": [
    "# Step 2: Helper Functions\n",
    "# Function to decode reviews\n",
    "def decode_review(encoded_review):\n",
    "    return ' '.join([reverse_word_index.get(i - 3, '?') for i in encoded_review])\n",
    "\n",
    "# Function to preprocess user input\n",
    "def preprocess_text(text):\n",
    "    words = text.lower().split()\n",
    "    encoded_review = [word_index.get(word, 2) + 3 for word in words]\n",
    "    padded_review = sequence.pad_sequences([encoded_review], maxlen=500)\n",
    "    return padded_review"
   ]
  },
  {
   "cell_type": "code",
   "execution_count": 6,
   "id": "23531ed4",
   "metadata": {},
   "outputs": [],
   "source": [
    "### Prediction  function\n",
    "\n",
    "def predict_sentiment(review):\n",
    "    preprocessed_input=preprocess_text(review)\n",
    "\n",
    "    prediction=model.predict(preprocessed_input)\n",
    "\n",
    "    sentiment = 'Positive' if prediction[0][0] > 0.5 else 'Negative'\n",
    "    \n",
    "    return sentiment, prediction[0][0]\n",
    "\n"
   ]
  },
  {
   "cell_type": "code",
   "execution_count": 7,
   "id": "10495cca",
   "metadata": {},
   "outputs": [
    {
     "name": "stdout",
     "output_type": "stream",
     "text": [
      "\u001b[1m1/1\u001b[0m \u001b[32m━━━━━━━━━━━━━━━━━━━━\u001b[0m\u001b[37m\u001b[0m \u001b[1m0s\u001b[0m 458ms/step\n",
      "Review: This movie was fantastic! The acting was great and the plot was thrilling.\n",
      "Sentiment: Positive\n",
      "Prediction Score: 0.6546832323074341\n"
     ]
    }
   ],
   "source": [
    "# Step 4: User Input and Prediction\n",
    "# Example review for prediction\n",
    "example_review = \"This movie was fantastic! The acting was great and the plot was thrilling.\"\n",
    "\n",
    "sentiment,score=predict_sentiment(example_review)\n",
    "\n",
    "print(f'Review: {example_review}')\n",
    "print(f'Sentiment: {sentiment}')\n",
    "print(f'Prediction Score: {score}')"
   ]
  },
  {
   "cell_type": "code",
   "execution_count": null,
   "id": "4be00f87",
   "metadata": {},
   "outputs": [],
   "source": []
  },
  {
   "cell_type": "code",
   "execution_count": null,
   "id": "603b782d",
   "metadata": {},
   "outputs": [],
   "source": []
  }
 ],
 "metadata": {
  "kernelspec": {
   "display_name": "Python 3",
   "language": "python",
   "name": "python3"
  },
  "language_info": {
   "codemirror_mode": {
    "name": "ipython",
    "version": 3
   },
   "file_extension": ".py",
   "mimetype": "text/x-python",
   "name": "python",
   "nbconvert_exporter": "python",
   "pygments_lexer": "ipython3",
   "version": "3.11.0"
  }
 },
 "nbformat": 4,
 "nbformat_minor": 5
}
